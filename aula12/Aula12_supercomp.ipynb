{
  "nbformat": 4,
  "nbformat_minor": 0,
  "metadata": {
    "colab": {
      "provenance": [],
      "gpuType": "T4"
    },
    "kernelspec": {
      "name": "python3",
      "display_name": "Python 3"
    },
    "language_info": {
      "name": "python"
    },
    "accelerator": "GPU"
  },
  "cells": [
    {
      "cell_type": "code",
      "execution_count": 1,
      "metadata": {
        "colab": {
          "base_uri": "https://localhost:8080/"
        },
        "id": "EWG-Yr_xKHgk",
        "outputId": "ffcc4d27-164c-4400-ad60-6b2bc73c25bf"
      },
      "outputs": [
        {
          "output_type": "stream",
          "name": "stdout",
          "text": [
            "Tue Sep 24 13:13:28 2024       \n",
            "+---------------------------------------------------------------------------------------+\n",
            "| NVIDIA-SMI 535.104.05             Driver Version: 535.104.05   CUDA Version: 12.2     |\n",
            "|-----------------------------------------+----------------------+----------------------+\n",
            "| GPU  Name                 Persistence-M | Bus-Id        Disp.A | Volatile Uncorr. ECC |\n",
            "| Fan  Temp   Perf          Pwr:Usage/Cap |         Memory-Usage | GPU-Util  Compute M. |\n",
            "|                                         |                      |               MIG M. |\n",
            "|=========================================+======================+======================|\n",
            "|   0  Tesla T4                       Off | 00000000:00:04.0 Off |                    0 |\n",
            "| N/A   42C    P8               9W /  70W |      0MiB / 15360MiB |      0%      Default |\n",
            "|                                         |                      |                  N/A |\n",
            "+-----------------------------------------+----------------------+----------------------+\n",
            "                                                                                         \n",
            "+---------------------------------------------------------------------------------------+\n",
            "| Processes:                                                                            |\n",
            "|  GPU   GI   CI        PID   Type   Process name                            GPU Memory |\n",
            "|        ID   ID                                                             Usage      |\n",
            "|=======================================================================================|\n",
            "|  No running processes found                                                           |\n",
            "+---------------------------------------------------------------------------------------+\n"
          ]
        }
      ],
      "source": [
        "!nvidia-smi"
      ]
    },
    {
      "cell_type": "markdown",
      "source": [
        "**Introduções a Operações Customizadas**"
      ],
      "metadata": {
        "id": "7xO8eWBSPO3N"
      }
    },
    {
      "cell_type": "code",
      "source": [
        "%%writefile exercicio1.cu\n",
        "#include <iostream>                 // Biblioteca padrão para entrada e saída de dados\n",
        "#include <fstream>                  // Biblioteca para manipulação de arquivos\n",
        "#include <string>                   // Biblioteca para manipulação de strings\n",
        "#include <sstream>                  // Biblioteca para manipulação de fluxos de string\n",
        "#include <chrono>                   // Biblioteca para medir o tempo de execução do código\n",
        "using namespace std;\n",
        "#include <thrust/host_vector.h>     // Inclui a biblioteca Thrust para vetores na CPU\n",
        "\n",
        "\n",
        "\n",
        "struct saxpy\n",
        "{\n",
        "    int a;\n",
        "    saxpy(int a_) : a(a_) {};  // Construtor que inicializa a constante 'a'\n",
        "\n",
        "    __host__ __device__\n",
        "    double operator()(const int& x, const int& y) const {\n",
        "        return a * x + y;  // Operação que será aplicada a cada elemento de x e y\n",
        "    }\n",
        "};\n",
        "\n",
        "\n",
        "int main(){\n",
        "\n",
        "  thrust::host_vector<int> d_a(4);\n",
        "  thrust::host_vector<int> d_b(4);\n",
        "  thrust::host_vector<int> d_c(4);\n",
        "\n",
        "  d_a[0] = 1; d_a[1] = 2; d_a[2] = 3; d_a[3] = 4;\n",
        "  d_b[0] = 5; d_b[1] = 6; d_b[2] = 7; d_b[3] = 8;\n",
        "\n",
        "  int m = 4;\n",
        "\n",
        "\n",
        "  thrust::transform(d_a.begin(), d_a.end(), d_b.begin(), d_c.begin(), saxpy(m));\n",
        "\n",
        "  for (int i = 0; i < d_c.size(); i++) {\n",
        "        std::cout << \"d_c1[\" << i << \"] = \" << d_c[i] << std::endl;\n",
        "    }\n",
        "\n",
        "  m = 8;\n",
        "\n",
        "  thrust::transform(d_a.begin(), d_a.end(), d_b.begin(), d_c.begin(), saxpy(m));\n",
        "\n",
        "  for (int i = 0; i < d_c.size(); i++) {\n",
        "        std::cout << \"d_c2[\" << i << \"] = \" << d_c[i] << std::endl;\n",
        "    }\n",
        "\n",
        "  return 0;\n",
        "\n",
        "}"
      ],
      "metadata": {
        "colab": {
          "base_uri": "https://localhost:8080/"
        },
        "id": "u1YLzSj_KTqX",
        "outputId": "e9270428-2332-43fc-aa78-e62ad9eb0f8c"
      },
      "execution_count": 16,
      "outputs": [
        {
          "output_type": "stream",
          "name": "stdout",
          "text": [
            "Overwriting exercicio1.cu\n"
          ]
        }
      ]
    },
    {
      "cell_type": "code",
      "source": [
        "!nvcc -arch=sm_70 -std=c++14 exercicio1.cu -o exercicio1"
      ],
      "metadata": {
        "id": "o5F3nI13Ktac"
      },
      "execution_count": 17,
      "outputs": []
    },
    {
      "cell_type": "code",
      "source": [
        "!./exercicio1"
      ],
      "metadata": {
        "colab": {
          "base_uri": "https://localhost:8080/"
        },
        "id": "vILz3ODWMgHM",
        "outputId": "5e56ebc9-9cf6-4a57-fd64-ae7aefaf0d64"
      },
      "execution_count": 18,
      "outputs": [
        {
          "output_type": "stream",
          "name": "stdout",
          "text": [
            "d_c1[0] = 9\n",
            "d_c1[1] = 14\n",
            "d_c1[2] = 19\n",
            "d_c1[3] = 24\n",
            "d_c2[0] = 13\n",
            "d_c2[1] = 22\n",
            "d_c2[2] = 31\n",
            "d_c2[3] = 40\n"
          ]
        }
      ]
    },
    {
      "cell_type": "markdown",
      "source": [
        "**Transformações Unárias e Binárias**"
      ],
      "metadata": {
        "id": "esoR-l0APX1Y"
      }
    },
    {
      "cell_type": "code",
      "source": [
        "%%writefile exercicio2.cu\n",
        "#include <iostream>                 // Biblioteca padrão para entrada e saída de dados\n",
        "#include <fstream>                  // Biblioteca para manipulação de arquivos\n",
        "#include <string>                   // Biblioteca para manipulação de strings\n",
        "#include <sstream>                  // Biblioteca para manipulação de fluxos de string\n",
        "#include <chrono>                   // Biblioteca para medir o tempo de execução do código\n",
        "using namespace std;\n",
        "#include <thrust/host_vector.h>     // Inclui a biblioteca Thrust para vetores na CPU\n",
        "\n",
        "\n",
        "struct square\n",
        "{\n",
        "    __host__ __device__\n",
        "    float operator()(const float& x) const {\n",
        "        return x * x;  // Elevar ao quadrado\n",
        "    }\n",
        "};\n",
        "\n",
        "\n",
        "int main(){\n",
        "\n",
        "  thrust::host_vector<int> d_v(4);\n",
        "\n",
        "\n",
        "  d_v[0] = 1; d_v[1] = 2; d_v[2] = 3; d_v[3] = 4;\n",
        "\n",
        "  thrust::transform(d_v.begin(), d_v.end(), d_v.begin(), square());\n",
        "\n",
        "  for (int i = 0; i < d_v.size(); i++) {\n",
        "        std::cout << \"d_v[\" << i << \"] = \" << d_v[i] << std::endl;\n",
        "    }\n",
        "\n",
        "  return 0;\n",
        "\n",
        "}"
      ],
      "metadata": {
        "colab": {
          "base_uri": "https://localhost:8080/"
        },
        "id": "nO1APErdNDM1",
        "outputId": "f5365d15-e1b3-4a29-d6fc-611723409e7d"
      },
      "execution_count": 19,
      "outputs": [
        {
          "output_type": "stream",
          "name": "stdout",
          "text": [
            "Writing exercicio2.cu\n"
          ]
        }
      ]
    },
    {
      "cell_type": "code",
      "source": [
        "!nvcc -arch=sm_70 -std=c++14 exercicio2.cu -o exercicio2"
      ],
      "metadata": {
        "id": "bST0Uqa8NcLA"
      },
      "execution_count": 20,
      "outputs": []
    },
    {
      "cell_type": "code",
      "source": [
        "!./exercicio2"
      ],
      "metadata": {
        "colab": {
          "base_uri": "https://localhost:8080/"
        },
        "id": "q8UZN5jiNejH",
        "outputId": "7c03d832-da2d-49ed-94ac-12c2d1df5951"
      },
      "execution_count": 21,
      "outputs": [
        {
          "output_type": "stream",
          "name": "stdout",
          "text": [
            "d_v[0] = 1\n",
            "d_v[1] = 4\n",
            "d_v[2] = 9\n",
            "d_v[3] = 16\n"
          ]
        }
      ]
    },
    {
      "cell_type": "markdown",
      "source": [
        "**Calculando a Magnitude de um Vetor**"
      ],
      "metadata": {
        "id": "K2MD28BCPfkw"
      }
    },
    {
      "cell_type": "markdown",
      "source": [
        "Em GPU"
      ],
      "metadata": {
        "id": "QDSQzo0MQQOR"
      }
    },
    {
      "cell_type": "code",
      "source": [
        "%%writefile exercicio3.cu\n",
        "#include <iostream>                 // Biblioteca padrão para entrada e saída de dados\n",
        "#include <fstream>                  // Biblioteca para manipulação de arquivos\n",
        "#include <string>                   // Biblioteca para manipulação de strings\n",
        "#include <sstream>                  // Biblioteca para manipulação de fluxos de string\n",
        "#include <chrono>                   // Biblioteca para medir o tempo de execução do código\n",
        "using namespace std;\n",
        "#include <thrust/device_vector.h>     // Inclui a biblioteca Thrust para vetores na CPU\n",
        "#include <thrust/transform_reduce.h>\n",
        "\n",
        "struct square\n",
        "{\n",
        "    __host__ __device__\n",
        "    float operator()(const float& x) const {\n",
        "        return x * x;  // Elevar ao quadrado\n",
        "    }\n",
        "};\n",
        "\n",
        "float magnitude(thrust::device_vector<float>& v) {\n",
        "    float sum_of_squares = thrust::transform_reduce(v.begin(), v.end(), square(), 0.0f, thrust::plus<float>());\n",
        "    return std::sqrt(sum_of_squares);\n",
        "}\n",
        "\n",
        "\n",
        "int main(){\n",
        "\n",
        "  thrust::device_vector<float> v(4);\n",
        "\n",
        "  v[0] = 1.234; v[1] = 2.456; v[2] = 3.678; v[3] = 4.901;\n",
        "\n",
        "  float mag = magnitude(v);\n",
        "\n",
        "  // Mostra a magnitude\n",
        "  std::cout << \"Magnitude: \" << mag << std::endl;\n",
        "\n",
        "\n",
        "  return 0;\n",
        "\n",
        "}"
      ],
      "metadata": {
        "colab": {
          "base_uri": "https://localhost:8080/"
        },
        "id": "jkkk68HzNyvD",
        "outputId": "6f48e24f-135f-4272-bdda-acb2f8f539e0"
      },
      "execution_count": 30,
      "outputs": [
        {
          "output_type": "stream",
          "name": "stdout",
          "text": [
            "Overwriting exercicio3.cu\n"
          ]
        }
      ]
    },
    {
      "cell_type": "code",
      "source": [
        "!nvcc -arch=sm_70 -std=c++14 exercicio3.cu -o exercicio3"
      ],
      "metadata": {
        "id": "0IlLYkj8O9bg"
      },
      "execution_count": 31,
      "outputs": []
    },
    {
      "cell_type": "code",
      "source": [
        "!./exercicio3"
      ],
      "metadata": {
        "colab": {
          "base_uri": "https://localhost:8080/"
        },
        "id": "YG3X-e9YPMZ2",
        "outputId": "33b6c0c1-3fed-4c55-d4e0-ec4a96c5dda5"
      },
      "execution_count": 32,
      "outputs": [
        {
          "output_type": "stream",
          "name": "stdout",
          "text": [
            "Magnitude: 6.71582\n"
          ]
        }
      ]
    },
    {
      "cell_type": "markdown",
      "source": [
        "Em CPU"
      ],
      "metadata": {
        "id": "JMUFaNZtQR7h"
      }
    },
    {
      "cell_type": "code",
      "source": [
        "%%writefile exercicio3_cpu.cpp\n",
        "#include <iostream>                 // Biblioteca padrão para entrada e saída de dados\n",
        "#include <vector>                   // Biblioteca padrão para vetores\n",
        "#include <numeric>                  // Para std::accumulate\n",
        "#include <cmath>                    // Para std::sqrt\n",
        "\n",
        "struct square\n",
        "{\n",
        "    float operator()(const float& x) const {\n",
        "        return x * x;\n",
        "    }\n",
        "};\n",
        "\n",
        "float magnitude(const std::vector<float>& v) {\n",
        "    float sum_of_squares = std::accumulate(v.begin(), v.end(), 0.0f, [](float sum, float x) {\n",
        "        return sum + x * x;\n",
        "    });\n",
        "    return std::sqrt(sum_of_squares);\n",
        "}\n",
        "\n",
        "int main() {\n",
        "    std::vector<float> v(4);\n",
        "\n",
        "    v[0] = 1.234; v[1] = 2.456; v[2] = 3.678; v[3] = 4.901;\n",
        "\n",
        "    float mag = magnitude(v);\n",
        "\n",
        "    std::cout << \"Magnitude: \" << mag << std::endl;\n",
        "\n",
        "    return 0;\n",
        "}\n"
      ],
      "metadata": {
        "colab": {
          "base_uri": "https://localhost:8080/"
        },
        "id": "-D0hr0YJQS61",
        "outputId": "8784ba26-1a7a-4deb-e633-792b10798223"
      },
      "execution_count": 34,
      "outputs": [
        {
          "output_type": "stream",
          "name": "stdout",
          "text": [
            "Writing exercicio3_cpu.cpp\n"
          ]
        }
      ]
    },
    {
      "cell_type": "code",
      "source": [
        "!g++ -std=c++14 exercicio3_cpu.cpp -o exercicio3_cpu"
      ],
      "metadata": {
        "id": "AsUueN3zQqDp"
      },
      "execution_count": 35,
      "outputs": []
    },
    {
      "cell_type": "code",
      "source": [
        "!./exercicio3_cpu"
      ],
      "metadata": {
        "colab": {
          "base_uri": "https://localhost:8080/"
        },
        "id": "aVEsBN40Qrwr",
        "outputId": "0d737b79-da45-4c0b-9055-861fc4e86ce2"
      },
      "execution_count": 36,
      "outputs": [
        {
          "output_type": "stream",
          "name": "stdout",
          "text": [
            "Magnitude: 6.71582\n"
          ]
        }
      ]
    },
    {
      "cell_type": "markdown",
      "source": [
        "**Otimização com Fusion Kernel**"
      ],
      "metadata": {
        "id": "66gxFquMQ2dM"
      }
    },
    {
      "cell_type": "code",
      "source": [
        "%%writefile exercicio4.cu\n",
        "#include <iostream>                 // Biblioteca padrão para entrada e saída de dados\n",
        "#include <fstream>                  // Biblioteca para manipulação de arquivos\n",
        "#include <string>                   // Biblioteca para manipulação de strings\n",
        "#include <sstream>                  // Biblioteca para manipulação de fluxos de string\n",
        "#include <chrono>                   // Biblioteca para medir o tempo de execução do código\n",
        "using namespace std;\n",
        "#include <thrust/device_vector.h>     // Inclui a biblioteca Thrust para vetores na CPU\n",
        "#include <thrust/transform_reduce.h>\n",
        "\n",
        "struct variance_op\n",
        "{\n",
        "    float mean;\n",
        "    variance_op(float mean_) : mean(mean_) {}  // Construtor que armazena a média\n",
        "\n",
        "    __host__ __device__\n",
        "    float operator()(const float& x) const {\n",
        "        float diff = x - mean;  // Diferença em relação à média\n",
        "        return diff * diff;  // Elevar ao quadrado a diferença\n",
        "    }\n",
        "};\n",
        "\n",
        "float calculate_variance(const thrust::device_vector<float>& d_vec, float mean) {\n",
        "    return thrust::transform_reduce(d_vec.begin(), d_vec.end(), variance_op(mean), 0.0f, thrust::plus<float>()) / d_vec.size();\n",
        "}\n",
        "\n",
        "\n",
        "// para facilitar o cálculo da média\n",
        "float calculate_mean(const thrust::device_vector<float>& d_vec) {\n",
        "    float sum = thrust::reduce(d_vec.begin(), d_vec.end(), 0.0f, thrust::plus<float>());\n",
        "    return sum / d_vec.size();\n",
        "}\n",
        "\n",
        "int main(){\n",
        "\n",
        "  thrust::device_vector<float> d_vec(4);\n",
        "\n",
        "  d_vec[0] = 1.234; d_vec[1] = 2.456; d_vec[2] = 3.678; d_vec[3] = 4.901;\n",
        "\n",
        "  float mean = calculate_mean(d_vec);\n",
        "\n",
        "  float variance = calculate_variance(d_vec, mean);\n",
        "\n",
        "  std::cout << \"Média: \" << mean << std::endl;\n",
        "  std::cout << \"Variância: \" << variance << std::endl;\n",
        "\n",
        "  thrust::device_vector<float> d_vec2(6);\n",
        "\n",
        "  d_vec2[0] = 1.234; d_vec2[1] = 2.456; d_vec2[2] = 3.678; d_vec2[3] = 4.901; d_vec2[4] = 5.234; d_vec2[5] = 6.567;\n",
        "\n",
        "  float mean2 = calculate_mean(d_vec2);\n",
        "\n",
        "  float variance2 = calculate_variance(d_vec2, mean2);\n",
        "\n",
        "  std::cout << \"Média: \" << mean2 << std::endl;\n",
        "  std::cout << \"Variância: \" << variance2 << std::endl;\n",
        "\n",
        "\n",
        "  return 0;\n",
        "\n",
        "}"
      ],
      "metadata": {
        "colab": {
          "base_uri": "https://localhost:8080/"
        },
        "id": "UpgzFVbpQ4jK",
        "outputId": "a8db04b1-5148-4754-d3cb-81ca1e82063f"
      },
      "execution_count": 49,
      "outputs": [
        {
          "output_type": "stream",
          "name": "stdout",
          "text": [
            "Overwriting exercicio4.cu\n"
          ]
        }
      ]
    },
    {
      "cell_type": "code",
      "source": [
        "!nvcc -arch=sm_70 -std=c++14 exercicio4.cu -o exercicio4"
      ],
      "metadata": {
        "id": "TmjLHrxZRfUr"
      },
      "execution_count": 50,
      "outputs": []
    },
    {
      "cell_type": "code",
      "source": [
        "!./exercicio4"
      ],
      "metadata": {
        "colab": {
          "base_uri": "https://localhost:8080/"
        },
        "id": "LVdaYsOMSdZ6",
        "outputId": "94353818-54bd-4fc7-8b77-c395ae9bd642"
      },
      "execution_count": 51,
      "outputs": [
        {
          "output_type": "stream",
          "name": "stdout",
          "text": [
            "Média: 3.06725\n",
            "Variância: 1.86752\n",
            "Média: 4.01167\n",
            "Variância: 3.17693\n"
          ]
        }
      ]
    }
  ]
}