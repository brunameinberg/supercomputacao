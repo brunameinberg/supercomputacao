{
  "nbformat": 4,
  "nbformat_minor": 0,
  "metadata": {
    "colab": {
      "provenance": [],
      "gpuType": "T4"
    },
    "kernelspec": {
      "name": "python3",
      "display_name": "Python 3"
    },
    "language_info": {
      "name": "python"
    },
    "accelerator": "GPU"
  },
  "cells": [
    {
      "cell_type": "code",
      "execution_count": null,
      "metadata": {
        "colab": {
          "base_uri": "https://localhost:8080/"
        },
        "id": "Kre3gSP4ep2H",
        "outputId": "ddcfa7b4-fe60-4b34-b64b-2e369b2a2c72"
      },
      "outputs": [
        {
          "output_type": "stream",
          "name": "stdout",
          "text": [
            "Fri Sep 20 12:51:13 2024       \n",
            "+---------------------------------------------------------------------------------------+\n",
            "| NVIDIA-SMI 535.104.05             Driver Version: 535.104.05   CUDA Version: 12.2     |\n",
            "|-----------------------------------------+----------------------+----------------------+\n",
            "| GPU  Name                 Persistence-M | Bus-Id        Disp.A | Volatile Uncorr. ECC |\n",
            "| Fan  Temp   Perf          Pwr:Usage/Cap |         Memory-Usage | GPU-Util  Compute M. |\n",
            "|                                         |                      |               MIG M. |\n",
            "|=========================================+======================+======================|\n",
            "|   0  Tesla T4                       Off | 00000000:00:04.0 Off |                    0 |\n",
            "| N/A   62C    P8              11W /  70W |      0MiB / 15360MiB |      0%      Default |\n",
            "|                                         |                      |                  N/A |\n",
            "+-----------------------------------------+----------------------+----------------------+\n",
            "                                                                                         \n",
            "+---------------------------------------------------------------------------------------+\n",
            "| Processes:                                                                            |\n",
            "|  GPU   GI   CI        PID   Type   Process name                            GPU Memory |\n",
            "|        ID   ID                                                             Usage      |\n",
            "|=======================================================================================|\n",
            "|  No running processes found                                                           |\n",
            "+---------------------------------------------------------------------------------------+\n"
          ]
        }
      ],
      "source": [
        "!nvidia-smi"
      ]
    },
    {
      "cell_type": "markdown",
      "source": [
        "**Calculando a variância usando iteradores dinâmicos**"
      ],
      "metadata": {
        "id": "uNPZ9gK4fc0t"
      }
    },
    {
      "cell_type": "code",
      "source": [
        "%%writefile exercicio1.cu\n",
        "#include <thrust/device_vector.h>   // Inclui a biblioteca Thrust para vetores na GPU\n",
        "#include <thrust/host_vector.h>     // Inclui a biblioteca Thrust para vetores na CPU\n",
        "#include <iostream>                 // Biblioteca padrão para entrada e saída de dados\n",
        "#include <fstream>                  // Biblioteca para manipulação de arquivos\n",
        "#include <string>                   // Biblioteca para manipulação de strings\n",
        "#include <sstream>                  // Biblioteca para manipulação de fluxos de string\n",
        "#include <chrono>                   // Biblioteca para medir o tempo de execução do código\n",
        "using namespace std;\n",
        "#include <thrust/iterator/constant_iterator.h>\n",
        "\n",
        "\n",
        "int main(){\n",
        "\n",
        "  string nome_arquivo;\n",
        "  cin >> nome_arquivo;\n",
        "\n",
        "  cout << nome_arquivo;\n",
        "\n",
        "  ifstream entrada(nome_arquivo);\n",
        "\n",
        "  if (!entrada.is_open()) {\n",
        "        cerr << \"Erro ao abrir o arquivo.\" << endl;\n",
        "        return 1;\n",
        "    }\n",
        "\n",
        "  thrust::device_vector<double> apple;\n",
        "\n",
        "  thrust::device_vector<double> microsoft;\n",
        "\n",
        "  thrust::device_vector<double> diferenca;\n",
        "\n",
        "\n",
        "  string linha;\n",
        "\n",
        "  int n = 0;\n",
        "\n",
        "  while (getline(entrada, linha)) {\n",
        "        try {\n",
        "            if (!linha.empty()) {\n",
        "\n",
        "                stringstream ss(linha);\n",
        "                string parte1, parte2;\n",
        "\n",
        "                getline(ss, parte1, ',');\n",
        "                getline(ss, parte2, ',');\n",
        "\n",
        "                double valor1 = stod(parte1);\n",
        "                double valor2 = stod(parte2);\n",
        "                apple.push_back(valor1);\n",
        "                microsoft.push_back(valor2);\n",
        "\n",
        "                double valor_diferenca;\n",
        "                valor_diferenca = valor1 - valor2;\n",
        "\n",
        "                diferenca.push_back(valor_diferenca);\n",
        "\n",
        "                n = n + 1;\n",
        "\n",
        "            }\n",
        "        } catch (const std::invalid_argument& e) {\n",
        "            cerr << \"Linha inválida encontrada: '\" << linha << \"'\" << endl;\n",
        "        }\n",
        "  }\n",
        "\n",
        "  entrada.close();\n",
        "\n",
        "  double preco_medio_diferenca = thrust::reduce(diferenca.begin(), diferenca.end()) / n;\n",
        "\n",
        "    thrust::constant_iterator<double> media(preco_medio_diferenca);\n",
        "\n",
        "    double soma_diferencas_quadradas = 0.0;\n",
        "\n",
        "    for (int i = 0; i < n; ++i) {\n",
        "        double diferenca_valor = diferenca[i];\n",
        "        double valor_quadrado = (diferenca_valor - preco_medio_diferenca) * (diferenca_valor - preco_medio_diferenca);\n",
        "        soma_diferencas_quadradas += valor_quadrado;\n",
        "    }\n",
        "\n",
        "    double variancia = soma_diferencas_quadradas / n;\n",
        "\n",
        "    cout << \"Preço médio das diferenças: \" << preco_medio_diferenca << endl;\n",
        "    cout << \"Variância das diferenças: \" << variancia << endl;\n",
        "\n",
        "    return 0;\n",
        "}\n",
        "\n"
      ],
      "metadata": {
        "id": "BlUenP_ifcOd",
        "colab": {
          "base_uri": "https://localhost:8080/"
        },
        "outputId": "5142fd14-b3d5-4cf1-a22d-d71a10087c08"
      },
      "execution_count": 18,
      "outputs": [
        {
          "output_type": "stream",
          "name": "stdout",
          "text": [
            "Overwriting exercicio1.cu\n"
          ]
        }
      ]
    },
    {
      "cell_type": "code",
      "source": [
        "!nvcc -arch=sm_70 -std=c++14 exercicio1.cu -o exercicio1"
      ],
      "metadata": {
        "id": "G_WQLlZynvmo"
      },
      "execution_count": 20,
      "outputs": []
    },
    {
      "cell_type": "code",
      "source": [
        "!./exercicio1"
      ],
      "metadata": {
        "colab": {
          "base_uri": "https://localhost:8080/"
        },
        "id": "kvSkF710qXyc",
        "outputId": "b50ef7c2-d815-4d94-dfe5-f46833a62541"
      },
      "execution_count": 21,
      "outputs": [
        {
          "output_type": "stream",
          "name": "stdout",
          "text": [
            "stocks2.txt\n",
            "stocks2.txtPreço médio das diferenças: -265.232\n",
            "Variância das diferenças: 16120.3\n"
          ]
        }
      ]
    },
    {
      "cell_type": "markdown",
      "source": [
        "**Análise de Variação Diária dos Preços de Ações**"
      ],
      "metadata": {
        "id": "6PQ5uUVkqgyt"
      }
    },
    {
      "cell_type": "code",
      "source": [
        "%%writefile exercicio2.cu\n",
        "#include <thrust/device_vector.h>   // Inclui a biblioteca Thrust para vetores na GPU\n",
        "#include <thrust/host_vector.h>     // Inclui a biblioteca Thrust para vetores na CPU\n",
        "#include <iostream>                 // Biblioteca padrão para entrada e saída de dados\n",
        "#include <fstream>                  // Biblioteca para manipulação de arquivos\n",
        "#include <string>                   // Biblioteca para manipulação de strings\n",
        "#include <chrono>                   // Biblioteca para medir o tempo de execução do código\n",
        "using namespace std;\n",
        "\n",
        "int main(){\n",
        "\n",
        "  string nome_arquivo;\n",
        "  cin >> nome_arquivo;\n",
        "\n",
        "  cout << nome_arquivo;\n",
        "\n",
        "  ifstream entrada(nome_arquivo);\n",
        "\n",
        "  if (!entrada.is_open()) {\n",
        "        cerr << \"Erro ao abrir o arquivo.\" << endl;\n",
        "        return 1;\n",
        "    }\n",
        "\n",
        "  thrust::device_vector<double> stocks;\n",
        "\n",
        "  string linha;\n",
        "\n",
        "  int n = 0;\n",
        "\n",
        "  while (getline(entrada, linha)) {\n",
        "        try {\n",
        "            if (!linha.empty()) {\n",
        "                double valor = stod(linha);\n",
        "                stocks.push_back(valor);\n",
        "                n = n +1;\n",
        "            }\n",
        "        } catch (const std::invalid_argument& e) {\n",
        "            cerr << \"Linha inválida encontrada: '\" << linha << \"'\" << endl;\n",
        "        }\n",
        "  }\n",
        "\n",
        "  entrada.close();\n",
        "\n",
        "  thrust::device_vector<double> ganho_diario(stocks.size() - 1);\n",
        "\n",
        "  thrust::transform(stocks.begin(), stocks.end() - 1, stocks.begin() + 1, ganho_diario.begin(), thrust::minus<double>());\n",
        "\n",
        "\n",
        "\n",
        "  return 0;\n",
        "\n",
        "}"
      ],
      "metadata": {
        "colab": {
          "base_uri": "https://localhost:8080/"
        },
        "id": "IkdUf7W5qmNR",
        "outputId": "cc38b7b3-6f6b-4e7d-e2d3-75290e19b425"
      },
      "execution_count": 22,
      "outputs": [
        {
          "output_type": "stream",
          "name": "stdout",
          "text": [
            "Writing exercicio2.cu\n"
          ]
        }
      ]
    },
    {
      "cell_type": "code",
      "source": [
        "!nvcc -arch=sm_70 -std=c++14 exercicio2.cu -o exercicio2"
      ],
      "metadata": {
        "id": "Qvm2EXA8teKS"
      },
      "execution_count": 23,
      "outputs": []
    },
    {
      "cell_type": "code",
      "source": [
        "!./exercicio2"
      ],
      "metadata": {
        "colab": {
          "base_uri": "https://localhost:8080/"
        },
        "id": "6MS_0GeKtgdG",
        "outputId": "ee498cdc-2a5f-4398-a79b-7517219be908"
      },
      "execution_count": 24,
      "outputs": [
        {
          "output_type": "stream",
          "name": "stdout",
          "text": [
            "stocks-google.txt\n",
            "stocks-google.txt"
          ]
        }
      ]
    },
    {
      "cell_type": "markdown",
      "source": [
        "**Contagem de Dias com Aumento no Preço das Ações¶**"
      ],
      "metadata": {
        "id": "mp96gQHhtvLs"
      }
    },
    {
      "cell_type": "code",
      "source": [
        "%%writefile exercicio3.cu\n",
        "#include <thrust/device_vector.h>   // Inclui a biblioteca Thrust para vetores na GPU\n",
        "#include <thrust/host_vector.h>     // Inclui a biblioteca Thrust para vetores na CPU\n",
        "#include <iostream>                 // Biblioteca padrão para entrada e saída de dados\n",
        "#include <fstream>                  // Biblioteca para manipulação de arquivos\n",
        "#include <string>                   // Biblioteca para manipulação de strings\n",
        "#include <chrono>                   // Biblioteca para medir o tempo de execução do código\n",
        "#include <thrust/count.h>\n",
        "\n",
        "using namespace std;\n",
        "\n",
        "int main(){\n",
        "\n",
        "  string nome_arquivo;\n",
        "  cin >> nome_arquivo;\n",
        "\n",
        "  cout << nome_arquivo;\n",
        "\n",
        "  ifstream entrada(nome_arquivo);\n",
        "\n",
        "  if (!entrada.is_open()) {\n",
        "        cerr << \"Erro ao abrir o arquivo.\" << endl;\n",
        "        return 1;\n",
        "    }\n",
        "\n",
        "  thrust::device_vector<double> stocks;\n",
        "\n",
        "  string linha;\n",
        "\n",
        "  int n = 0;\n",
        "\n",
        "  while (getline(entrada, linha)) {\n",
        "        try {\n",
        "            if (!linha.empty()) {\n",
        "                double valor = stod(linha);\n",
        "                stocks.push_back(valor);\n",
        "                n = n +1;\n",
        "            }\n",
        "        } catch (const std::invalid_argument& e) {\n",
        "            cerr << \"Linha inválida encontrada: '\" << linha << \"'\" << endl;\n",
        "        }\n",
        "  }\n",
        "\n",
        "  entrada.close();\n",
        "\n",
        "  thrust::device_vector<double> ganho_diario(stocks.size() - 1);\n",
        "\n",
        "  thrust::transform(stocks.begin(), stocks.end() - 1, stocks.begin() + 1, ganho_diario.begin(), thrust::minus<double>());\n",
        "\n",
        "  int quantos_subiu = thrust::count_if(ganho_diario.begin(), ganho_diario.end(), [] __device__(int x){\n",
        "    return x > 0;\n",
        "  });\n",
        "\n",
        "  cout << \"Dias que aumentou: \" << quantos_subiu  << endl;\n",
        "\n",
        "  return 0;\n",
        "\n",
        "}"
      ],
      "metadata": {
        "colab": {
          "base_uri": "https://localhost:8080/"
        },
        "id": "svnBsoP2tvUw",
        "outputId": "2d7a47d5-3959-4e2b-cbbb-70bf77619fd7"
      },
      "execution_count": 34,
      "outputs": [
        {
          "output_type": "stream",
          "name": "stdout",
          "text": [
            "Overwriting exercicio3.cu\n"
          ]
        }
      ]
    },
    {
      "cell_type": "code",
      "source": [
        "!nvcc -arch=sm_70 -std=c++14 --extended-lambda exercicio3.cu -o exercicio3"
      ],
      "metadata": {
        "id": "chLebIBHvMsK"
      },
      "execution_count": 38,
      "outputs": []
    },
    {
      "cell_type": "code",
      "source": [
        "!./exercicio3"
      ],
      "metadata": {
        "colab": {
          "base_uri": "https://localhost:8080/"
        },
        "id": "t4t0CAQUvQxb",
        "outputId": "d7e7de44-d38c-4dc4-b3fe-aae5cfb5b6b1"
      },
      "execution_count": 39,
      "outputs": [
        {
          "output_type": "stream",
          "name": "stdout",
          "text": [
            "stocks-google.txt\n",
            "stocks-google.txtDias que aumentou: 55\n"
          ]
        }
      ]
    },
    {
      "cell_type": "markdown",
      "source": [
        "**Cálculo do Aumento Médio nos Dias em que o Preço Subiu¶**"
      ],
      "metadata": {
        "id": "wV1Rta1TxcOX"
      }
    },
    {
      "cell_type": "code",
      "source": [
        "%%writefile exercicio4.cu\n",
        "#include <thrust/device_vector.h>   // Inclui a biblioteca Thrust para vetores na GPU\n",
        "#include <thrust/host_vector.h>     // Inclui a biblioteca Thrust para vetores na CPU\n",
        "#include <iostream>                 // Biblioteca padrão para entrada e saída de dados\n",
        "#include <fstream>                  // Biblioteca para manipulação de arquivos\n",
        "#include <string>                   // Biblioteca para manipulação de strings\n",
        "#include <chrono>                   // Biblioteca para medir o tempo de execução do código\n",
        "#include <thrust/count.h>\n",
        "#include <thrust/replace.h>\n",
        "\n",
        "\n",
        "using namespace std;\n",
        "\n",
        "struct is_less_than_zero\n",
        "{\n",
        "  __host__ __device__\n",
        "  bool operator()(int x)\n",
        "  {\n",
        "    return x < 0;\n",
        "  }\n",
        "};\n",
        "\n",
        "int main(){\n",
        "\n",
        "  string nome_arquivo;\n",
        "  cin >> nome_arquivo;\n",
        "\n",
        "  cout << nome_arquivo;\n",
        "\n",
        "  ifstream entrada(nome_arquivo);\n",
        "\n",
        "  if (!entrada.is_open()) {\n",
        "        cerr << \"Erro ao abrir o arquivo.\" << endl;\n",
        "        return 1;\n",
        "    }\n",
        "\n",
        "  thrust::device_vector<double> stocks;\n",
        "\n",
        "  string linha;\n",
        "\n",
        "  int n = 0;\n",
        "\n",
        "  while (getline(entrada, linha)) {\n",
        "        try {\n",
        "            if (!linha.empty()) {\n",
        "                double valor = stod(linha);\n",
        "                stocks.push_back(valor);\n",
        "                n = n +1;\n",
        "            }\n",
        "        } catch (const std::invalid_argument& e) {\n",
        "            cerr << \"Linha inválida encontrada: '\" << linha << \"'\" << endl;\n",
        "        }\n",
        "  }\n",
        "\n",
        "  entrada.close();\n",
        "\n",
        "  thrust::device_vector<double> ganho_diario(stocks.size() - 1);\n",
        "\n",
        "  thrust::transform(stocks.begin(), stocks.end() - 1, stocks.begin() + 1, ganho_diario.begin(), thrust::minus<double>());\n",
        "\n",
        "  int quantos_subiu = thrust::count_if(ganho_diario.begin(), ganho_diario.end(), [] __device__(int x){\n",
        "    return x > 0;\n",
        "  });\n",
        "\n",
        "  cout << \"Dias que aumentou: \" << quantos_subiu  << endl;\n",
        "\n",
        "  is_less_than_zero pred;\n",
        "\n",
        "  thrust::replace_if(ganho_diario.begin(), ganho_diario.end(), pred, 0);\n",
        "\n",
        "  double soma = 0;\n",
        "\n",
        "  int n_positivo = 0;\n",
        "\n",
        "  for (int i = 0; i < n-1; i++){\n",
        "    if (ganho_diario[i] > 0){\n",
        "      n_positivo = n_positivo + 1;\n",
        "    }\n",
        "    soma =  soma + ganho_diario[i];\n",
        "  }\n",
        "  soma = soma/n_positivo;\n",
        "\n",
        "  cout << \"Aumento médio dos dias em que subiu: \" << soma << endl;\n",
        "\n",
        "  return 0;\n",
        "\n",
        "}"
      ],
      "metadata": {
        "colab": {
          "base_uri": "https://localhost:8080/"
        },
        "id": "GrngV3AkwA9f",
        "outputId": "edf6bc99-9b98-4e35-e77b-da2170448140"
      },
      "execution_count": 45,
      "outputs": [
        {
          "output_type": "stream",
          "name": "stdout",
          "text": [
            "Overwriting exercicio4.cu\n"
          ]
        }
      ]
    },
    {
      "cell_type": "code",
      "source": [
        "!nvcc -arch=sm_70 -std=c++14 --extended-lambda exercicio4.cu -o exercicio4"
      ],
      "metadata": {
        "id": "OmCph5Q9yjyr"
      },
      "execution_count": 46,
      "outputs": []
    },
    {
      "cell_type": "code",
      "source": [
        "!./exercicio4"
      ],
      "metadata": {
        "colab": {
          "base_uri": "https://localhost:8080/"
        },
        "id": "kB3yE1vay6SA",
        "outputId": "60dc0380-aeb1-4dff-a8a6-640bb40aac6f"
      },
      "execution_count": 47,
      "outputs": [
        {
          "output_type": "stream",
          "name": "stdout",
          "text": [
            "stocks-google.txt\n",
            "stocks-google.txtDias que aumentou: 55\n",
            "Aumento médio dos dias em que subiu: 153.624\n"
          ]
        }
      ]
    }
  ]
}